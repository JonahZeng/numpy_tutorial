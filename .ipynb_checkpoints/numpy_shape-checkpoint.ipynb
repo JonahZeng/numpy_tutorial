{
 "cells": [
  {
   "cell_type": "markdown",
   "metadata": {},
   "source": [
    "# numpy形态"
   ]
  },
  {
   "cell_type": "markdown",
   "metadata": {},
   "source": [
    "## 改变维度长度或者秩(rank)"
   ]
  },
  {
   "cell_type": "code",
   "execution_count": 3,
   "metadata": {},
   "outputs": [
    {
     "name": "stdout",
     "output_type": "stream",
     "text": [
      "[[8. 4. 8. 7.]\n",
      " [2. 4. 8. 5.]\n",
      " [6. 7. 6. 8.]]\n"
     ]
    }
   ],
   "source": [
    "import numpy as np\n",
    "a = np.floor(10*np.random.random((3,4)))\n",
    "print(a)"
   ]
  },
  {
   "cell_type": "markdown",
   "metadata": {},
   "source": [
    "使用ravel()函数，获取所有元素组成一维array，注意，**返回的一维array仍然是共享数据的**，做个试验："
   ]
  },
  {
   "cell_type": "code",
   "execution_count": 7,
   "metadata": {},
   "outputs": [
    {
     "name": "stdout",
     "output_type": "stream",
     "text": [
      "[[5. 5. 2. 3.]\n",
      " [9. 1. 8. 4.]\n",
      " [7. 2. 3. 0.]]\n",
      "[[-1.  5.  2.  3.]\n",
      " [ 9.  1.  8.  4.]\n",
      " [ 7.  2.  3.  0.]]\n"
     ]
    }
   ],
   "source": [
    "a = np.floor(10*np.random.random((3,4)))\n",
    "print(a)\n",
    "b = a.ravel()\n",
    "b[0] = -1\n",
    "print(a)"
   ]
  },
  {
   "cell_type": "markdown",
   "metadata": {},
   "source": [
    "可以看到，改变了b的元素，a的元素也跟着改变，这是一定要注意的；\n",
    "改变一个多维数组的各个维度长度，直接赋值给shape属性，如果获取另一个array，ravel()/reshape()/transpose()都可以，同样的，**元素数据仍然是共享的，shadecopy**"
   ]
  },
  {
   "cell_type": "code",
   "execution_count": 13,
   "metadata": {},
   "outputs": [
    {
     "name": "stdout",
     "output_type": "stream",
     "text": [
      "(3, 4)\n",
      "[[3. 2. 3. 0. 9. 5.]\n",
      " [6. 9. 0. 5. 3. 0.]]\n",
      "[[3. 2. 3. 0.]\n",
      " [9. 5. 6. 9.]\n",
      " [0. 5. 3. 0.]]\n",
      "[[3. 2. 3.]\n",
      " [0. 9. 5.]\n",
      " [6. 9. 0.]\n",
      " [5. 3. 0.]]\n",
      "[[3. 0. 6. 5.]\n",
      " [2. 9. 9. 3.]\n",
      " [3. 5. 0. 0.]]\n",
      "[[3. 2. 3.]\n",
      " [0. 9. 5.]\n",
      " [6. 9. 0.]\n",
      " [5. 3. 0.]]\n"
     ]
    }
   ],
   "source": [
    "a = np.floor(10*np.random.random((3,4)))\n",
    "print(a.shape)\n",
    "print(a.reshape((2,6)))#reshape()不会直接改变a\n",
    "print(a)\n",
    "a.shape = (4,3)#这里直接改变了a\n",
    "print(a)\n",
    "print(a.transpose())#转置也没有直接改变a\n",
    "print(a)"
   ]
  },
  {
   "cell_type": "markdown",
   "metadata": {},
   "source": [
    "额外一个小tip：如果使用-1指定shape，意味着自动计算这个axis长度："
   ]
  },
  {
   "cell_type": "code",
   "execution_count": 14,
   "metadata": {},
   "outputs": [
    {
     "name": "stdout",
     "output_type": "stream",
     "text": [
      "[[5 5 6 4]\n",
      " [2 8 3 1]\n",
      " [0 0 1 6]]\n"
     ]
    }
   ],
   "source": [
    "a = np.random.randint(0,10,(3,4))\n",
    "print(a)"
   ]
  },
  {
   "cell_type": "code",
   "execution_count": 15,
   "metadata": {},
   "outputs": [
    {
     "name": "stdout",
     "output_type": "stream",
     "text": [
      "[[5 5 6 4 2 8]\n",
      " [3 1 0 0 1 6]]\n"
     ]
    }
   ],
   "source": [
    "a.shape = (-1,6)\n",
    "print(a)"
   ]
  },
  {
   "cell_type": "markdown",
   "metadata": {},
   "source": [
    "## array组合、拼接"
   ]
  },
  {
   "cell_type": "code",
   "execution_count": 16,
   "metadata": {},
   "outputs": [
    {
     "name": "stdout",
     "output_type": "stream",
     "text": [
      "[[0.26104778 9.52801532]\n",
      " [8.17661164 1.32773419]]\n",
      "--------\n",
      "[[2.93207727 5.95129093]\n",
      " [4.46894076 1.99406665]]\n"
     ]
    }
   ],
   "source": [
    "a = 10*np.random.random((2,2))\n",
    "b = 10*np.random.random((2,2))\n",
    "print(a)\n",
    "print('-'*8)\n",
    "print(b)"
   ]
  },
  {
   "cell_type": "code",
   "execution_count": 18,
   "metadata": {},
   "outputs": [
    {
     "name": "stdout",
     "output_type": "stream",
     "text": [
      "[[0.26104778 9.52801532 2.93207727 5.95129093]\n",
      " [8.17661164 1.32773419 4.46894076 1.99406665]]\n",
      "[[0.26104778 9.52801532 2.93207727 5.95129093]\n",
      " [8.17661164 1.32773419 4.46894076 1.99406665]]\n"
     ]
    }
   ],
   "source": [
    "c = np.hstack((a,b))\n",
    "print(c)\n",
    "a[0,0]=-1\n",
    "print(c)"
   ]
  },
  {
   "cell_type": "markdown",
   "metadata": {},
   "source": [
    "可以看到，拼接是深拷贝"
   ]
  },
  {
   "cell_type": "code",
   "execution_count": 19,
   "metadata": {},
   "outputs": [
    {
     "name": "stdout",
     "output_type": "stream",
     "text": [
      "[[-1.          9.52801532]\n",
      " [ 8.17661164  1.32773419]\n",
      " [ 2.93207727  5.95129093]\n",
      " [ 4.46894076  1.99406665]]\n"
     ]
    }
   ],
   "source": [
    "d = np.vstack((a,b))\n",
    "print(d)"
   ]
  },
  {
   "cell_type": "code",
   "execution_count": 20,
   "metadata": {},
   "outputs": [
    {
     "name": "stdout",
     "output_type": "stream",
     "text": [
      "[[-1.          9.52801532  2.93207727  5.95129093]\n",
      " [ 8.17661164  1.32773419  4.46894076  1.99406665]]\n"
     ]
    }
   ],
   "source": [
    "c = np.column_stack((a,b))\n",
    "print(c)"
   ]
  },
  {
   "cell_type": "code",
   "execution_count": 24,
   "metadata": {},
   "outputs": [
    {
     "name": "stdout",
     "output_type": "stream",
     "text": [
      "[[1 2 8]\n",
      " [3 4 8]]\n"
     ]
    }
   ],
   "source": [
    "a = np.array([[1,2],[3,4]])\n",
    "b = np.array([8,8])\n",
    "# b = np.array([[8],[8]])  这两种出来的结果是一样的，也就是说column_stack是强制添加到列的\n",
    "print(np.column_stack((a,b)))"
   ]
  },
  {
   "cell_type": "markdown",
   "metadata": {},
   "source": [
    "一个彩蛋："
   ]
  },
  {
   "cell_type": "code",
   "execution_count": 26,
   "metadata": {},
   "outputs": [
    {
     "name": "stdout",
     "output_type": "stream",
     "text": [
      "[[4]\n",
      " [2]]\n",
      "[[4 2]\n",
      " [2 8]]\n"
     ]
    }
   ],
   "source": [
    "a = np.array([4,2])\n",
    "b = np.array([2,8])\n",
    "print(a[:,np.newaxis])\n",
    "print(np.column_stack((a,b)))"
   ]
  },
  {
   "cell_type": "markdown",
   "metadata": {},
   "source": [
    "## array拆分"
   ]
  },
  {
   "cell_type": "code",
   "execution_count": 27,
   "metadata": {},
   "outputs": [
    {
     "name": "stdout",
     "output_type": "stream",
     "text": [
      "[[9. 7. 4. 6. 2. 0.]\n",
      " [6. 4. 2. 9. 6. 4.]]\n"
     ]
    }
   ],
   "source": [
    "a = np.floor(10*np.random.random((2,6)))\n",
    "print(a)"
   ]
  },
  {
   "cell_type": "code",
   "execution_count": 28,
   "metadata": {},
   "outputs": [
    {
     "name": "stdout",
     "output_type": "stream",
     "text": [
      "[array([[9., 7.],\n",
      "       [6., 4.]]), array([[4., 6.],\n",
      "       [2., 9.]]), array([[2., 0.],\n",
      "       [6., 4.]])]\n"
     ]
    }
   ],
   "source": [
    "b = np.hsplit(a,3)\n",
    "print(b)"
   ]
  },
  {
   "cell_type": "code",
   "execution_count": 29,
   "metadata": {},
   "outputs": [
    {
     "name": "stdout",
     "output_type": "stream",
     "text": [
      "[[-9.  7.  4.  6.  2.  0.]\n",
      " [ 6.  4.  2.  9.  6.  4.]]\n"
     ]
    }
   ],
   "source": [
    "b[0][0,0] = -9\n",
    "print(a)"
   ]
  },
  {
   "cell_type": "markdown",
   "metadata": {},
   "source": [
    "**说明拆分返回的array列表仍然共享原来的数据**"
   ]
  },
  {
   "cell_type": "code",
   "execution_count": 30,
   "metadata": {},
   "outputs": [
    {
     "name": "stdout",
     "output_type": "stream",
     "text": [
      "[array([[-9.,  7.,  4.],\n",
      "       [ 6.,  4.,  2.]]), array([[6.],\n",
      "       [9.]]), array([[2., 0.],\n",
      "       [6., 4.]])]\n"
     ]
    }
   ],
   "source": [
    "b = np.hsplit(a,(3,4))#从第三列和第四列后拆分\n",
    "print(b)"
   ]
  },
  {
   "cell_type": "code",
   "execution_count": null,
   "metadata": {},
   "outputs": [],
   "source": []
  }
 ],
 "metadata": {
  "kernelspec": {
   "display_name": "Python 3",
   "language": "python",
   "name": "python3"
  },
  "language_info": {
   "codemirror_mode": {
    "name": "ipython",
    "version": 3
   },
   "file_extension": ".py",
   "mimetype": "text/x-python",
   "name": "python",
   "nbconvert_exporter": "python",
   "pygments_lexer": "ipython3",
   "version": "3.6.4"
  }
 },
 "nbformat": 4,
 "nbformat_minor": 2
}
