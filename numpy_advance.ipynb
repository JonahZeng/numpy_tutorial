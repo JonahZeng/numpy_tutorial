{
 "nbformat": 4,
 "nbformat_minor": 2,
 "metadata": {
  "language_info": {
   "name": "python",
   "codemirror_mode": {
    "name": "ipython",
    "version": 3
   },
   "version": "3.7.5-final"
  },
  "orig_nbformat": 2,
  "file_extension": ".py",
  "mimetype": "text/x-python",
  "name": "python",
  "npconvert_exporter": "python",
  "pygments_lexer": "ipython3",
  "version": 3,
  "kernelspec": {
   "name": "python37564bitb658db12fc9045bdbba7bfbc5b2b1d36",
   "display_name": "Python 3.7.5 64-bit"
  }
 },
 "cells": [
  {
   "cell_type": "markdown",
   "execution_count": null,
   "metadata": {},
   "outputs": [],
   "source": [
    "# numpy高级主题\n",
    "## 通用函数"
   ]
  },
  {
   "cell_type": "code",
   "execution_count": 1,
   "metadata": {},
   "outputs": [
    {
     "name": "stdout",
     "output_type": "stream",
     "text": "[[0 1 2]\n [3 4 5]\n [6 7 8]]\n[[10 11 12]\n [13 14 15]\n [16 17 18]]\n[[-2 -1  0]\n [ 1  2  3]\n [ 4  5  6]]\n[[ 0  3  6]\n [ 9 12 15]\n [18 21 24]]\n[[0.   0.25 0.5 ]\n [0.75 1.   1.25]\n [1.5  1.75 2.  ]]\n[[0 0 0]\n [0 1 1]\n [1 1 2]]\n"
    }
   ],
   "source": [
    "import numpy as np\n",
    "a = np.arange(0, 9, dtype=np.int32).reshape((3,3))\n",
    "print(a)\n",
    "print(a+10)\n",
    "print(a-2)\n",
    "print(a*3)\n",
    "print(a/4)\n",
    "print(a//4)"
   ]
  },
  {
   "cell_type": "markdown",
   "execution_count": null,
   "metadata": {},
   "outputs": [],
   "source": [
    "`+ - * / //`这些运算符在numpy当中类似c++的操作符重载，numpy会把这些操作符用内置的通用函数替换；"
   ]
  },
  {
   "cell_type": "code",
   "execution_count": 2,
   "metadata": {},
   "outputs": [
    {
     "name": "stdout",
     "output_type": "stream",
     "text": "[[10 11 12]\n [13 14 15]\n [16 17 18]]\n[[10 11 12]\n [13 14 15]\n [16 17 18]]\n"
    }
   ],
   "source": [
    "print(a+10)\n",
    "print(np.add(a, 10))"
   ]
  },
  {
   "cell_type": "code",
   "execution_count": 3,
   "metadata": {},
   "outputs": [
    {
     "name": "stdout",
     "output_type": "stream",
     "text": "[[ 0  3  6]\n [ 9 12 15]\n [18 21 24]]\n[[ 0  3  6]\n [ 9 12 15]\n [18 21 24]]\n"
    }
   ],
   "source": [
    "print(a*3)\n",
    "print(np.multiply(a, 3))"
   ]
  },
  {
   "cell_type": "code",
   "execution_count": 4,
   "metadata": {},
   "outputs": [
    {
     "name": "stdout",
     "output_type": "stream",
     "text": "[[0.   0.25 0.5 ]\n [0.75 1.   1.25]\n [1.5  1.75 2.  ]]\n[[0.   0.25 0.5 ]\n [0.75 1.   1.25]\n [1.5  1.75 2.  ]]\n"
    }
   ],
   "source": [
    "print(a/4)\n",
    "print(np.divide(a, 4))"
   ]
  },
  {
   "cell_type": "markdown",
   "execution_count": null,
   "metadata": {},
   "outputs": [],
   "source": [
    "其他的通用函数包括np.abs, np.power, np.sin, np.cos, np.arcsin, np.exp, np.exp2, np.log, np.log2, np.log10\n",
    "\n",
    "## 通用函数聚合"
   ]
  },
  {
   "cell_type": "code",
   "execution_count": 6,
   "metadata": {},
   "outputs": [
    {
     "data": {
      "text/plain": "15"
     },
     "execution_count": 6,
     "metadata": {},
     "output_type": "execute_result"
    }
   ],
   "source": [
    "a = np.arange(1, 6)\n",
    "np.add.reduce(a)"
   ]
  },
  {
   "cell_type": "code",
   "execution_count": 7,
   "metadata": {},
   "outputs": [
    {
     "data": {
      "text/plain": "120"
     },
     "execution_count": 7,
     "metadata": {},
     "output_type": "execute_result"
    }
   ],
   "source": [
    "np.multiply.reduce(a)"
   ]
  },
  {
   "cell_type": "code",
   "execution_count": 8,
   "metadata": {},
   "outputs": [
    {
     "data": {
      "text/plain": "array([  1,   2,   6,  24, 120], dtype=int32)"
     },
     "execution_count": 8,
     "metadata": {},
     "output_type": "execute_result"
    }
   ],
   "source": [
    "np.multiply.accumulate(a)"
   ]
  },
  {
   "cell_type": "markdown",
   "execution_count": null,
   "metadata": {},
   "outputs": [],
   "source": [
    "## 求和与最大最小值"
   ]
  },
  {
   "cell_type": "code",
   "execution_count": 10,
   "metadata": {},
   "outputs": [
    {
     "name": "stdout",
     "output_type": "stream",
     "text": "[[ 4  3  3 11]\n [12  6  6  9]\n [10 12  4  9]\n [10  6  5  3]]\n"
    },
    {
     "data": {
      "text/plain": "113"
     },
     "execution_count": 10,
     "metadata": {},
     "output_type": "execute_result"
    }
   ],
   "source": [
    "a = np.random.randint(1, 15, size=(4, 4))\n",
    "print(a)\n",
    "np.sum(a)"
   ]
  },
  {
   "cell_type": "code",
   "execution_count": 11,
   "metadata": {},
   "outputs": [
    {
     "data": {
      "text/plain": "array([36, 27, 18, 32])"
     },
     "execution_count": 11,
     "metadata": {},
     "output_type": "execute_result"
    }
   ],
   "source": [
    "np.sum(a, axis=0)"
   ]
  },
  {
   "cell_type": "code",
   "execution_count": 12,
   "metadata": {},
   "outputs": [
    {
     "data": {
      "text/plain": "3"
     },
     "execution_count": 12,
     "metadata": {},
     "output_type": "execute_result"
    }
   ],
   "source": [
    "np.min(a)"
   ]
  },
  {
   "cell_type": "code",
   "execution_count": 13,
   "metadata": {},
   "outputs": [
    {
     "data": {
      "text/plain": "1"
     },
     "execution_count": 13,
     "metadata": {},
     "output_type": "execute_result"
    }
   ],
   "source": [
    "np.argmin()"
   ]
  },
  {
   "cell_type": "markdown",
   "execution_count": null,
   "metadata": {},
   "outputs": [],
   "source": [
    "|函数名|描述|\n",
    "|:---:|:---:|\n",
    "|np.sum|计算元素的和|\n",
    "|np.prod|计算元素的积|\n",
    "|np.mean|平均值|\n",
    "|np.std|标准差|\n",
    "|np.var|方差|\n",
    "|np.min|最小值|\n",
    "|np.max|最大值|\n",
    "|np.argmin|最小值索引|\n",
    "|np.argmax|最大值索引|\n",
    "|np.median|中位数|\n",
    "|np.any|任何一个元素满足条件|\n",
    "|np.all|所有元素满足条件|"
   ]
  },
  {
   "cell_type": "code",
   "execution_count": null,
   "metadata": {},
   "outputs": [],
   "source": []
  }
 ]
}
