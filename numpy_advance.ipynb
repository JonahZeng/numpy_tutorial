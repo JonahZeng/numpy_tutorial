{
 "nbformat": 4,
 "nbformat_minor": 2,
 "metadata": {
  "language_info": {
   "name": "python",
   "codemirror_mode": {
    "name": "ipython",
    "version": 3
   },
   "version": "3.7.5-final"
  },
  "orig_nbformat": 2,
  "file_extension": ".py",
  "mimetype": "text/x-python",
  "name": "python",
  "npconvert_exporter": "python",
  "pygments_lexer": "ipython3",
  "version": 3,
  "kernelspec": {
   "name": "python37564bitb658db12fc9045bdbba7bfbc5b2b1d36",
   "display_name": "Python 3.7.5 64-bit"
  }
 },
 "cells": [
  {
   "cell_type": "markdown",
   "execution_count": null,
   "metadata": {},
   "outputs": [],
   "source": [
    "# numpy高级主题\n",
    "----------\n",
    "## 通用函数"
   ]
  },
  {
   "cell_type": "code",
   "execution_count": 1,
   "metadata": {},
   "outputs": [
    {
     "name": "stdout",
     "output_type": "stream",
     "text": "[[0 1 2]\n [3 4 5]\n [6 7 8]]\n[[10 11 12]\n [13 14 15]\n [16 17 18]]\n[[-2 -1  0]\n [ 1  2  3]\n [ 4  5  6]]\n[[ 0  3  6]\n [ 9 12 15]\n [18 21 24]]\n[[0.   0.25 0.5 ]\n [0.75 1.   1.25]\n [1.5  1.75 2.  ]]\n[[0 0 0]\n [0 1 1]\n [1 1 2]]\n"
    }
   ],
   "source": [
    "import numpy as np\n",
    "a = np.arange(0, 9, dtype=np.int32).reshape((3,3))\n",
    "print(a)\n",
    "print(a+10)\n",
    "print(a-2)\n",
    "print(a*3)\n",
    "print(a/4)\n",
    "print(a//4)"
   ]
  },
  {
   "cell_type": "markdown",
   "execution_count": null,
   "metadata": {},
   "outputs": [],
   "source": [
    "`+ - * / //`这些运算符在numpy当中类似c++的操作符重载，numpy会把这些操作符用内置的通用函数替换；"
   ]
  },
  {
   "cell_type": "code",
   "execution_count": 2,
   "metadata": {},
   "outputs": [
    {
     "name": "stdout",
     "output_type": "stream",
     "text": "[[10 11 12]\n [13 14 15]\n [16 17 18]]\n[[10 11 12]\n [13 14 15]\n [16 17 18]]\n"
    }
   ],
   "source": [
    "print(a+10)\n",
    "print(np.add(a, 10))"
   ]
  },
  {
   "cell_type": "code",
   "execution_count": 3,
   "metadata": {},
   "outputs": [
    {
     "name": "stdout",
     "output_type": "stream",
     "text": "[[ 0  3  6]\n [ 9 12 15]\n [18 21 24]]\n[[ 0  3  6]\n [ 9 12 15]\n [18 21 24]]\n"
    }
   ],
   "source": [
    "print(a*3)\n",
    "print(np.multiply(a, 3))"
   ]
  },
  {
   "cell_type": "code",
   "execution_count": 4,
   "metadata": {},
   "outputs": [
    {
     "name": "stdout",
     "output_type": "stream",
     "text": "[[0.   0.25 0.5 ]\n [0.75 1.   1.25]\n [1.5  1.75 2.  ]]\n[[0.   0.25 0.5 ]\n [0.75 1.   1.25]\n [1.5  1.75 2.  ]]\n"
    }
   ],
   "source": [
    "print(a/4)\n",
    "print(np.divide(a, 4))"
   ]
  },
  {
   "cell_type": "markdown",
   "execution_count": null,
   "metadata": {},
   "outputs": [],
   "source": [
    "其他的通用函数包括np.abs, np.power, np.sin, np.cos, np.arcsin, np.exp, np.exp2, np.log, np.log2, np.log10\n",
    "\n",
    "## 通用函数聚合"
   ]
  },
  {
   "cell_type": "code",
   "execution_count": 6,
   "metadata": {},
   "outputs": [
    {
     "data": {
      "text/plain": "15"
     },
     "execution_count": 6,
     "metadata": {},
     "output_type": "execute_result"
    }
   ],
   "source": [
    "a = np.arange(1, 6)\n",
    "np.add.reduce(a)"
   ]
  },
  {
   "cell_type": "code",
   "execution_count": 7,
   "metadata": {},
   "outputs": [
    {
     "data": {
      "text/plain": "120"
     },
     "execution_count": 7,
     "metadata": {},
     "output_type": "execute_result"
    }
   ],
   "source": [
    "np.multiply.reduce(a)"
   ]
  },
  {
   "cell_type": "code",
   "execution_count": 8,
   "metadata": {},
   "outputs": [
    {
     "data": {
      "text/plain": "array([  1,   2,   6,  24, 120], dtype=int32)"
     },
     "execution_count": 8,
     "metadata": {},
     "output_type": "execute_result"
    }
   ],
   "source": [
    "np.multiply.accumulate(a)"
   ]
  },
  {
   "cell_type": "markdown",
   "execution_count": null,
   "metadata": {},
   "outputs": [],
   "source": [
    "## 求和与最大最小值"
   ]
  },
  {
   "cell_type": "code",
   "execution_count": 10,
   "metadata": {},
   "outputs": [
    {
     "name": "stdout",
     "output_type": "stream",
     "text": "[[ 4  3  3 11]\n [12  6  6  9]\n [10 12  4  9]\n [10  6  5  3]]\n"
    },
    {
     "data": {
      "text/plain": "113"
     },
     "execution_count": 10,
     "metadata": {},
     "output_type": "execute_result"
    }
   ],
   "source": [
    "a = np.random.randint(1, 15, size=(4, 4))\n",
    "print(a)\n",
    "np.sum(a)"
   ]
  },
  {
   "cell_type": "code",
   "execution_count": 11,
   "metadata": {},
   "outputs": [
    {
     "data": {
      "text/plain": "array([36, 27, 18, 32])"
     },
     "execution_count": 11,
     "metadata": {},
     "output_type": "execute_result"
    }
   ],
   "source": [
    "np.sum(a, axis=0)"
   ]
  },
  {
   "cell_type": "code",
   "execution_count": 12,
   "metadata": {},
   "outputs": [
    {
     "data": {
      "text/plain": "3"
     },
     "execution_count": 12,
     "metadata": {},
     "output_type": "execute_result"
    }
   ],
   "source": [
    "np.min(a)"
   ]
  },
  {
   "cell_type": "code",
   "execution_count": 13,
   "metadata": {},
   "outputs": [
    {
     "data": {
      "text/plain": "1"
     },
     "execution_count": 13,
     "metadata": {},
     "output_type": "execute_result"
    }
   ],
   "source": [
    "np.argmin()"
   ]
  },
  {
   "cell_type": "markdown",
   "execution_count": null,
   "metadata": {},
   "outputs": [],
   "source": [
    "|函数名|描述|\n",
    "|:---:|:---:|\n",
    "|np.sum|计算元素的和|\n",
    "|np.prod|计算元素的积|\n",
    "|np.mean|平均值|\n",
    "|np.std|标准差|\n",
    "|np.var|方差|\n",
    "|np.min|最小值|\n",
    "|np.max|最大值|\n",
    "|np.argmin|最小值索引|\n",
    "|np.argmax|最大值索引|\n",
    "|np.median|中位数|\n",
    "|np.any|任何一个元素满足条件|\n",
    "|np.all|所有元素满足条件|"
   ]
  },
  {
   "cell_type": "markdown",
   "execution_count": null,
   "metadata": {},
   "outputs": [],
   "source": [
    "## 广播\n",
    "广播是使用numpy进行向量化操作，避免python缓慢的for循环的一个重要特征；\n",
    "比如："
   ]
  },
  {
   "cell_type": "code",
   "execution_count": 2,
   "metadata": {},
   "outputs": [
    {
     "name": "stdout",
     "output_type": "stream",
     "text": "(5,)\n[4 5 6 7 8]\n"
    }
   ],
   "source": [
    "import numpy as np\n",
    "a = np.arange(0, 5)\n",
    "print(a.shape)\n",
    "b = 4\n",
    "print(a+b)"
   ]
  },
  {
   "cell_type": "markdown",
   "execution_count": null,
   "metadata": {},
   "outputs": [],
   "source": [
    "这里b=4被广播为\\[4, 4, 4, 4, 4\\],再和a进行加法运算；\n",
    "对于更复杂的多维数组之间的广播，比如："
   ]
  },
  {
   "cell_type": "code",
   "execution_count": 4,
   "metadata": {},
   "outputs": [
    {
     "name": "stdout",
     "output_type": "stream",
     "text": "a.shape= (3,)\nb.shape= (2, 3)\n[[2 3 4]\n [3 4 5]]\n"
    }
   ],
   "source": [
    "a = np.array([1, 2, 3])\n",
    "print('a.shape=', a.shape)\n",
    "b = np.array([[1, 1, 1], [2, 2, 2]])\n",
    "print('b.shape=', b.shape)\n",
    "print(a+b)"
   ]
  },
  {
   "cell_type": "markdown",
   "execution_count": null,
   "metadata": {},
   "outputs": [],
   "source": [
    "广播规则：(3,)和(2,3)维度不匹配，首先(3,)变成(1,3)，(1,3)和(2,3)还是不匹配，(1,3)顺着axis=1的轴进行复制扩展，得到(2,3)；\n",
    "也就是\\[1,2,3\\]  ----> \\[\\[1,2,3\\]\\] ---> \\[\\[1,2,3\\],\\[1,2,3\\]\\]"
   ]
  },
  {
   "cell_type": "markdown",
   "execution_count": null,
   "metadata": {},
   "outputs": [],
   "source": [
    "如果两个数组在任意一个维度上的形状都不匹配，比如："
   ]
  },
  {
   "cell_type": "code",
   "execution_count": 5,
   "metadata": {},
   "outputs": [
    {
     "name": "stdout",
     "output_type": "stream",
     "text": "a.shape= (3,)\nb.shape= (2, 1)\n[[10 11 12]\n [11 12 13]]\n"
    }
   ],
   "source": [
    "a = np.array([1,2,3])\n",
    "print('a.shape=', a.shape)\n",
    "b = np.array([[9], [10]])\n",
    "print('b.shape=', b.shape)\n",
    "print(a+b)"
   ]
  },
  {
   "cell_type": "markdown",
   "execution_count": null,
   "metadata": {},
   "outputs": [],
   "source": [
    "(3,)和(2,1)维度不匹配，(3,)变成(1,3)， (1,3)和(2,1)不匹配，(1,3)扩展为(2,3)，(2,3)和(2,1)不匹配，(2,1)扩展为(2,3)，最终结果为(2,3)形状；\n",
    "* 规则 1：如果两个数组的维度数不相同，那么小维度数组的形状将会在最左边补 1。\n",
    "* 规则 2：如果两个数组的形状在任何一个维度上都不匹配，那么数组的形状会沿着维度为 1 的维度扩展以匹配另外一个数组的形状。\n",
    "* 规则 3：如果两个数组的形状在任何一个维度上都不匹配并且没有任何一个维度等于 1，那么会引发异常。"
   ]
  },
  {
   "cell_type": "markdown",
   "execution_count": null,
   "metadata": {},
   "outputs": [],
   "source": [
    "## 比较，掩码，bool逻辑\n",
    "利用numpy重载的比较运算符< > <= >= == !=可以非常方便的得到对应的bool数组："
   ]
  },
  {
   "cell_type": "code",
   "execution_count": 6,
   "metadata": {},
   "outputs": [
    {
     "name": "stdout",
     "output_type": "stream",
     "text": "[[0 4 6 3]\n [9 7 9 7]\n [2 1 4 1]\n [3 9 0 3]]\n"
    }
   ],
   "source": [
    "a = np.random.randint(10, size=(4,4))\n",
    "print(a)"
   ]
  },
  {
   "cell_type": "code",
   "execution_count": 7,
   "metadata": {},
   "outputs": [
    {
     "data": {
      "text/plain": "array([[ True, False, False, False],\n       [False, False, False, False],\n       [ True,  True, False,  True],\n       [False, False,  True, False]])"
     },
     "execution_count": 7,
     "metadata": {},
     "output_type": "execute_result"
    }
   ],
   "source": [
    "a<3"
   ]
  },
  {
   "cell_type": "code",
   "execution_count": 8,
   "metadata": {},
   "outputs": [
    {
     "data": {
      "text/plain": "5"
     },
     "execution_count": 8,
     "metadata": {},
     "output_type": "execute_result"
    }
   ],
   "source": [
    "np.count_nonzero(a<3)"
   ]
  },
  {
   "cell_type": "code",
   "execution_count": 9,
   "metadata": {},
   "outputs": [
    {
     "data": {
      "text/plain": "array([2, 1, 1, 1])"
     },
     "execution_count": 9,
     "metadata": {},
     "output_type": "execute_result"
    }
   ],
   "source": [
    "np.sum(a<3, axis=0)"
   ]
  },
  {
   "cell_type": "markdown",
   "execution_count": null,
   "metadata": {},
   "outputs": [],
   "source": [
    "bool逻辑运算符也被numpy重载，比如："
   ]
  },
  {
   "cell_type": "code",
   "execution_count": 10,
   "metadata": {},
   "outputs": [
    {
     "name": "stdout",
     "output_type": "stream",
     "text": "[[0 4 6 3]\n [9 7 9 7]\n [2 1 4 1]\n [3 9 0 3]]\n"
    }
   ],
   "source": [
    "print(a)"
   ]
  },
  {
   "cell_type": "code",
   "execution_count": 11,
   "metadata": {},
   "outputs": [
    {
     "data": {
      "text/plain": "array([[False,  True, False,  True],\n       [False, False, False, False],\n       [ True, False,  True, False],\n       [ True, False, False,  True]])"
     },
     "execution_count": 11,
     "metadata": {},
     "output_type": "execute_result"
    }
   ],
   "source": [
    "(a<5) & (a>1)"
   ]
  },
  {
   "cell_type": "markdown",
   "execution_count": null,
   "metadata": {},
   "outputs": [],
   "source": [
    "bool数组可以作为掩码，直接获取对应True位置的元素"
   ]
  },
  {
   "cell_type": "code",
   "execution_count": 12,
   "metadata": {},
   "outputs": [
    {
     "data": {
      "text/plain": "array([0, 3, 2, 1, 1, 3, 0, 3])"
     },
     "execution_count": 12,
     "metadata": {},
     "output_type": "execute_result"
    }
   ],
   "source": [
    "a[a<4]"
   ]
  },
  {
   "cell_type": "markdown",
   "execution_count": null,
   "metadata": {},
   "outputs": [],
   "source": [
    "## 高级索引\n",
    "使用数组来索引数组，获取目标元素："
   ]
  },
  {
   "cell_type": "code",
   "execution_count": 13,
   "metadata": {},
   "outputs": [
    {
     "name": "stdout",
     "output_type": "stream",
     "text": "[9 4 5 2 1 8 7 7]\n"
    }
   ],
   "source": [
    "a = np.random.randint(10, size=8)\n",
    "print(a)"
   ]
  },
  {
   "cell_type": "code",
   "execution_count": 14,
   "metadata": {},
   "outputs": [
    {
     "data": {
      "text/plain": "array([4, 2, 8])"
     },
     "execution_count": 14,
     "metadata": {},
     "output_type": "execute_result"
    }
   ],
   "source": [
    "ind = np.array([1, 3, 5])\n",
    "a[ind]"
   ]
  },
  {
   "cell_type": "markdown",
   "execution_count": null,
   "metadata": {},
   "outputs": [],
   "source": [
    "要牢记的是：使用数组来索引数组，得到的结果数组和索引的形状是一致的："
   ]
  },
  {
   "cell_type": "code",
   "execution_count": 15,
   "metadata": {},
   "outputs": [
    {
     "name": "stdout",
     "output_type": "stream",
     "text": "[9 4 5 2 1 8 7 7]\n"
    },
    {
     "data": {
      "text/plain": "array([[9, 4],\n       [5, 2]])"
     },
     "execution_count": 15,
     "metadata": {},
     "output_type": "execute_result"
    }
   ],
   "source": [
    "print(a)\n",
    "ind = np.array([[0, 1], [2, 3]])\n",
    "a[ind]"
   ]
  },
  {
   "cell_type": "markdown",
   "execution_count": null,
   "metadata": {},
   "outputs": [],
   "source": [
    "高级索引还可以应用在多维数组："
   ]
  },
  {
   "cell_type": "code",
   "execution_count": 16,
   "metadata": {},
   "outputs": [
    {
     "name": "stdout",
     "output_type": "stream",
     "text": "[[ 6  0  9  8]\n [ 4  3 11  8]\n [ 6  3 10  2]\n [ 5  8 10  3]]\n"
    }
   ],
   "source": [
    "a = np.random.randint(12, size=(4, 4))\n",
    "print(a)"
   ]
  },
  {
   "cell_type": "code",
   "execution_count": 17,
   "metadata": {},
   "outputs": [
    {
     "data": {
      "text/plain": "array([ 0, 11,  2])"
     },
     "execution_count": 17,
     "metadata": {},
     "output_type": "execute_result"
    }
   ],
   "source": [
    "ind1 = np.array([0, 1, 2])\n",
    "ind2 = np.array([1, 2, 3])\n",
    "a[ind1, ind2]"
   ]
  },
  {
   "cell_type": "markdown",
   "execution_count": null,
   "metadata": {},
   "outputs": [],
   "source": [
    "这里相当于a\\[0, 1\\], a\\[1, 2\\], a\\[2, 3\\]；因为ind1, ind2维度一致都是(3,)，所以结果数组也是(3,)；\n",
    "也可以让ind1, ind2维度不一致："
   ]
  },
  {
   "cell_type": "code",
   "execution_count": 18,
   "metadata": {},
   "outputs": [
    {
     "data": {
      "text/plain": "array([[ 0,  3,  3],\n       [ 9, 11, 10],\n       [ 8,  8,  2]])"
     },
     "execution_count": 18,
     "metadata": {},
     "output_type": "execute_result"
    }
   ],
   "source": [
    "ind1 = np.array([0, 1, 2])\n",
    "ind2 = np.array([1, 2, 3]).reshape(3, 1)\n",
    "a[ind1, ind2]"
   ]
  },
  {
   "cell_type": "markdown",
   "execution_count": null,
   "metadata": {},
   "outputs": [],
   "source": [
    "这种情况和之前的广播类似，ind1维度是(3,)，ind2维度是(3,1)，ind1首先变成(1,3)，进一步扩展成(3,3), ind2也扩展成(3,3)；所以结果数组维度就是(3,3)"
   ]
  },
  {
   "cell_type": "markdown",
   "execution_count": null,
   "metadata": {},
   "outputs": [],
   "source": [
    "### 组合索引"
   ]
  },
  {
   "cell_type": "code",
   "execution_count": 19,
   "metadata": {},
   "outputs": [
    {
     "name": "stdout",
     "output_type": "stream",
     "text": "[[ 6  0  9  8]\n [ 4  3 11  8]\n [ 6  3 10  2]\n [ 5  8 10  3]]\n"
    }
   ],
   "source": [
    "print(a)"
   ]
  },
  {
   "cell_type": "code",
   "execution_count": 20,
   "metadata": {},
   "outputs": [
    {
     "data": {
      "text/plain": "array([2, 3, 6])"
     },
     "execution_count": 20,
     "metadata": {},
     "output_type": "execute_result"
    }
   ],
   "source": [
    "a[2, [3, 1, 0]]"
   ]
  },
  {
   "cell_type": "markdown",
   "execution_count": null,
   "metadata": {},
   "outputs": [],
   "source": [
    "## 排序\n",
    "numpy中的快速排序："
   ]
  },
  {
   "cell_type": "code",
   "execution_count": 22,
   "metadata": {},
   "outputs": [
    {
     "name": "stdout",
     "output_type": "stream",
     "text": "[4 2 7 3 6 6 8 0 2 6]\n"
    }
   ],
   "source": [
    "a = np.random.randint(10, size=10)\n",
    "print(a)"
   ]
  },
  {
   "cell_type": "code",
   "execution_count": 23,
   "metadata": {},
   "outputs": [
    {
     "data": {
      "text/plain": "array([0, 2, 2, 3, 4, 6, 6, 6, 7, 8])"
     },
     "execution_count": 23,
     "metadata": {},
     "output_type": "execute_result"
    }
   ],
   "source": [
    "np.sort(a)"
   ]
  },
  {
   "cell_type": "markdown",
   "execution_count": null,
   "metadata": {},
   "outputs": [],
   "source": [
    "如果希望改变自身，则可以使用自身对象调用sort方法："
   ]
  },
  {
   "cell_type": "code",
   "execution_count": 24,
   "metadata": {},
   "outputs": [
    {
     "name": "stdout",
     "output_type": "stream",
     "text": "[0 2 2 3 4 6 6 6 7 8]\n"
    }
   ],
   "source": [
    "a.sort()\n",
    "print(a)"
   ]
  },
  {
   "cell_type": "markdown",
   "execution_count": null,
   "metadata": {},
   "outputs": [],
   "source": [
    "获取数组元素排序索引"
   ]
  },
  {
   "cell_type": "code",
   "execution_count": 25,
   "metadata": {},
   "outputs": [
    {
     "name": "stdout",
     "output_type": "stream",
     "text": "[5 5 1 3 1 2 5 0 5 4]\n"
    },
    {
     "data": {
      "text/plain": "array([7, 2, 4, 5, 3, 9, 0, 1, 6, 8], dtype=int64)"
     },
     "execution_count": 25,
     "metadata": {},
     "output_type": "execute_result"
    }
   ],
   "source": [
    "a = np.random.randint(10, size=10)\n",
    "print(a)\n",
    "np.argsort(a)"
   ]
  },
  {
   "cell_type": "markdown",
   "execution_count": null,
   "metadata": {},
   "outputs": [],
   "source": [
    "类似sum， max, min min等通用函数，sort函数也有axis参数指定多维数组的轴向："
   ]
  },
  {
   "cell_type": "code",
   "execution_count": 26,
   "metadata": {},
   "outputs": [
    {
     "name": "stdout",
     "output_type": "stream",
     "text": "[[ 2  8  3 12]\n [ 5 12 13  4]\n [ 7  5  5 11]\n [12  2 12 11]]\n"
    }
   ],
   "source": [
    "a = np.random.randint(14, size=(4, 4))\n",
    "print(a)"
   ]
  },
  {
   "cell_type": "code",
   "execution_count": 27,
   "metadata": {},
   "outputs": [
    {
     "data": {
      "text/plain": "array([[ 2,  2,  3,  4],\n       [ 5,  5,  5, 11],\n       [ 7,  8, 12, 11],\n       [12, 12, 13, 12]])"
     },
     "execution_count": 27,
     "metadata": {},
     "output_type": "execute_result"
    }
   ],
   "source": [
    "np.sort(a, axis=0)"
   ]
  },
  {
   "cell_type": "markdown",
   "execution_count": null,
   "metadata": {},
   "outputs": [],
   "source": [
    "### 部分排序\n",
    "不对整个数组排序，仅仅找到第几小的元素，可以使用partition函数："
   ]
  },
  {
   "cell_type": "code",
   "execution_count": 37,
   "metadata": {},
   "outputs": [
    {
     "data": {
      "text/plain": "array([0, 2, 3, 1, 7, 8])"
     },
     "execution_count": 37,
     "metadata": {},
     "output_type": "execute_result"
    }
   ],
   "source": [
    "a = np.array([2, 3, 7, 1, 0, 8])\n",
    "np.partition(a, 4)"
   ]
  },
  {
   "cell_type": "markdown",
   "execution_count": null,
   "metadata": {},
   "outputs": [],
   "source": [
    "这个例子中，7是第4小的值，所以7出现在了第4个位置，7左边都是小于7的值，右边是大于7的值，无序的。\n",
    "类似的，np.partition也可以指定axis用于多维数组"
   ]
  },
  {
   "cell_type": "code",
   "execution_count": null,
   "metadata": {},
   "outputs": [],
   "source": []
  }
 ]
}
