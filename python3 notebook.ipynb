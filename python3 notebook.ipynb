{
 "cells": [
  {
   "cell_type": "markdown",
   "metadata": {},
   "source": [
    "# python3 容易忘记的点\n",
    "## 字符串相关"
   ]
  },
  {
   "cell_type": "code",
   "execution_count": 1,
   "metadata": {},
   "outputs": [
    {
     "name": "stdout",
     "output_type": "stream",
     "text": [
      "99\n"
     ]
    }
   ],
   "source": [
    "print(ord('c'))"
   ]
  },
  {
   "cell_type": "code",
   "execution_count": 2,
   "metadata": {},
   "outputs": [
    {
     "name": "stdout",
     "output_type": "stream",
     "text": [
      "c\n"
     ]
    }
   ],
   "source": [
    "print(chr(99))"
   ]
  },
  {
   "cell_type": "code",
   "execution_count": 4,
   "metadata": {},
   "outputs": [
    {
     "data": {
      "text/plain": [
       "b'jonah'"
      ]
     },
     "execution_count": 4,
     "metadata": {},
     "output_type": "execute_result"
    }
   ],
   "source": [
    "'jonah'.encode('utf-8')"
   ]
  },
  {
   "cell_type": "code",
   "execution_count": 5,
   "metadata": {},
   "outputs": [
    {
     "data": {
      "text/plain": [
       "b'\\xe6\\x9b\\xbe\\xe6\\x89\\xac\\xe4\\xb9\\x94'"
      ]
     },
     "execution_count": 5,
     "metadata": {},
     "output_type": "execute_result"
    }
   ],
   "source": [
    "'曾扬乔'.encode('utf-8')"
   ]
  },
  {
   "cell_type": "code",
   "execution_count": 6,
   "metadata": {},
   "outputs": [
    {
     "data": {
      "text/plain": [
       "'曾扬乔'"
      ]
     },
     "execution_count": 6,
     "metadata": {},
     "output_type": "execute_result"
    }
   ],
   "source": [
    "b'\\xe6\\x9b\\xbe\\xe6\\x89\\xac\\xe4\\xb9\\x94'.decode('utf-8')"
   ]
  },
  {
   "cell_type": "markdown",
   "metadata": {},
   "source": [
    "## list tuple dict相关\n",
    "### 判断可迭代性"
   ]
  },
  {
   "cell_type": "code",
   "execution_count": 7,
   "metadata": {},
   "outputs": [
    {
     "name": "stdout",
     "output_type": "stream",
     "text": [
      "False\n",
      "True\n"
     ]
    }
   ],
   "source": [
    "from collections import Iterable\n",
    "print(isinstance(1, Iterable))\n",
    "print(isinstance('jonah', Iterable))"
   ]
  },
  {
   "cell_type": "markdown",
   "metadata": {},
   "source": [
    "### enumerate zip的用法"
   ]
  },
  {
   "cell_type": "code",
   "execution_count": 8,
   "metadata": {},
   "outputs": [
    {
     "name": "stdout",
     "output_type": "stream",
     "text": [
      "0 1\n",
      "1 2\n",
      "2 jonah\n",
      "3 zeng\n",
      "1 3\n",
      "2 4\n",
      "jonah gabby\n",
      "zeng long\n"
     ]
    }
   ],
   "source": [
    "list_a = [1, 2, 'jonah', 'zeng']\n",
    "for idx, val in enumerate(list_a):\n",
    "    print(idx, val)\n",
    "\n",
    "list_b = [3, 4, 'gabby', 'long']\n",
    "for v1, v2 in zip(list_a, list_b):\n",
    "    print(v1, v2)"
   ]
  },
  {
   "cell_type": "markdown",
   "metadata": {},
   "source": [
    "### dict的迭代"
   ]
  },
  {
   "cell_type": "code",
   "execution_count": 10,
   "metadata": {},
   "outputs": [
    {
     "name": "stdout",
     "output_type": "stream",
     "text": [
      "age\n",
      "gender\n",
      "name\n",
      "age 29\n",
      "gender male\n",
      "name jonah\n",
      "29\n",
      "male\n",
      "jonah\n",
      "True\n"
     ]
    }
   ],
   "source": [
    "dict_1 = {'name':'jonah', 'age':29, 'gender':'male'}\n",
    "for key in dict_1:\n",
    "    print(key)\n",
    "    \n",
    "for key, val in dict_1.items():\n",
    "    print(key, val)\n",
    "    \n",
    "for val in dict_1.values():\n",
    "    print(val)\n",
    "    \n",
    "print('name' in dict_1)# 判段key是否在字典内"
   ]
  },
  {
   "cell_type": "markdown",
   "metadata": {},
   "source": [
    "字典在python3.5的时候存储顺序还是无序的，在python3.7就是有序的，切记！！！"
   ]
  },
  {
   "cell_type": "markdown",
   "metadata": {},
   "source": [
    "### list 增删查改"
   ]
  },
  {
   "cell_type": "code",
   "execution_count": 11,
   "metadata": {},
   "outputs": [
    {
     "name": "stdout",
     "output_type": "stream",
     "text": [
      "1\n",
      "[1, 2]\n",
      "[1, 2, 3, 4, 5, 6]\n",
      "['0', 1, 2, 3, 4, 5, 6]\n"
     ]
    },
    {
     "data": {
      "text/plain": [
       "6"
      ]
     },
     "execution_count": 11,
     "metadata": {},
     "output_type": "execute_result"
    }
   ],
   "source": [
    "list_1 = [1, 2, 3, 4, 5]\n",
    "print(list_1[0])\n",
    "print(list_1[:2])\n",
    "\n",
    "list_1.append(6)\n",
    "print(list_1)\n",
    "list_1.insert(0, '0')\n",
    "print(list_1)\n",
    "list_1.pop()"
   ]
  },
  {
   "cell_type": "markdown",
   "metadata": {},
   "source": [
    "`pop()`函数也可以接收参数，比如`pop(0)`,则删除第一个元素；"
   ]
  },
  {
   "cell_type": "markdown",
   "metadata": {},
   "source": [
    "### dict 增删查改"
   ]
  },
  {
   "cell_type": "code",
   "execution_count": 12,
   "metadata": {},
   "outputs": [
    {
     "name": "stdout",
     "output_type": "stream",
     "text": [
      "jonah\n",
      "{'age': 29, 'gender': 'male', 'profession': 'engineer', 'name': 'jonah'}\n"
     ]
    }
   ],
   "source": [
    "dict_1 = {'name':'jonah', 'age':29, 'gender':'male'}\n",
    "print(dict_1['name'])\n",
    "\n",
    "if not 'profession' in dict_1:\n",
    "    dict_1['profession'] = 'engineer'\n",
    "print(dict_1)"
   ]
  },
  {
   "cell_type": "markdown",
   "metadata": {},
   "source": [
    "如上是访问和插入key的方法， 类似的，修改和删除："
   ]
  },
  {
   "cell_type": "code",
   "execution_count": 13,
   "metadata": {},
   "outputs": [
    {
     "name": "stdout",
     "output_type": "stream",
     "text": [
      "{'age': 30, 'gender': 'male', 'profession': 'engineer', 'name': 'jonah'}\n",
      "{'age': 30, 'gender': 'male', 'profession': 'engineer'}\n"
     ]
    }
   ],
   "source": [
    "dict_1['age'] = 30\n",
    "print(dict_1)\n",
    "dict_1.pop('name')\n",
    "print(dict_1)"
   ]
  },
  {
   "cell_type": "markdown",
   "metadata": {},
   "source": [
    "## 函数\n",
    "### 函数定义"
   ]
  },
  {
   "cell_type": "code",
   "execution_count": 17,
   "metadata": {},
   "outputs": [
    {
     "name": "stdout",
     "output_type": "stream",
     "text": [
      "1\n",
      "2\n",
      "3\n",
      "4\n",
      "(5, 6)\n",
      "29\n",
      "{'family': 'zeng', 'name': 'jonah'}\n"
     ]
    }
   ],
   "source": [
    "def func(a, b, c, d=20, *args, age, gender, **kw):\n",
    "    '''\n",
    "    a b c:位置参数，可以有默认值\n",
    "    d:默认参数\n",
    "    args: 可变参数， 在函数内部是一个tuple，外部的list tuple可以在变量名前加*号来传递给函数\n",
    "    age gender：命名关键字参数，可以有默认值\n",
    "    kw：关键字参数\n",
    "    '''\n",
    "    print(a)\n",
    "    print(b)\n",
    "    print(c)\n",
    "    print(d)\n",
    "    print(args)\n",
    "    print(age)\n",
    "    print(kw)\n",
    "\n",
    "func(1, 2, 3, 4, 5, 6, age='29', gender='male', name='jonah', family='zeng')"
   ]
  },
  {
   "cell_type": "markdown",
   "metadata": {},
   "source": [
    "上面的函数中，出现了5种参数类型：位置参数，默认参数，可变参数，命名关键字参数，关键字参数；\n",
    "顺序一定是这样的；\n",
    "如果没有可变参数，但是又有命名关键字参数，则需要在命名关键字前面加一个*,标识："
   ]
  },
  {
   "cell_type": "code",
   "execution_count": 19,
   "metadata": {},
   "outputs": [
    {
     "name": "stdout",
     "output_type": "stream",
     "text": [
      "1\n",
      "2\n",
      "3\n",
      "4\n",
      "29\n",
      "male\n",
      "{'family': 'zeng', 'name': 'jonah'}\n"
     ]
    }
   ],
   "source": [
    "def func(a, b, c, d=20, *, age, gender, **kw):\n",
    "    '''\n",
    "    a b c:位置参数，可以有默认值\n",
    "    d:默认参数\n",
    "    age gender：命名关键字参数，可以有默认值\n",
    "    kw：关键字参数\n",
    "    '''\n",
    "    print(a)\n",
    "    print(b)\n",
    "    print(c)\n",
    "    print(d)\n",
    "    print(age)\n",
    "    print(gender)\n",
    "    print(kw)\n",
    "\n",
    "func(1, 2, 3, 4, age='29', gender='male', name='jonah', family='zeng')"
   ]
  },
  {
   "cell_type": "markdown",
   "metadata": {},
   "source": [
    "## 列表生成式"
   ]
  },
  {
   "cell_type": "code",
   "execution_count": 20,
   "metadata": {},
   "outputs": [
    {
     "data": {
      "text/plain": [
       "[0, 1, 4, 9, 16, 25, 36, 49, 64, 81]"
      ]
     },
     "execution_count": 20,
     "metadata": {},
     "output_type": "execute_result"
    }
   ],
   "source": [
    "[x*x for x in range(10)]"
   ]
  },
  {
   "cell_type": "code",
   "execution_count": 22,
   "metadata": {},
   "outputs": [
    {
     "data": {
      "text/plain": [
       "['age=29', 'gender=male', 'name=jonah']"
      ]
     },
     "execution_count": 22,
     "metadata": {},
     "output_type": "execute_result"
    }
   ],
   "source": [
    "dict_1 = {'name':'jonah', 'age':29, 'gender':'male'}\n",
    "[key+'='+str(val) for key, val in dict_1.items()]"
   ]
  },
  {
   "cell_type": "markdown",
   "metadata": {},
   "source": [
    "## 生成器\n",
    "一个生成斐波那契数列的函数：\n"
   ]
  },
  {
   "cell_type": "code",
   "execution_count": 24,
   "metadata": {},
   "outputs": [
    {
     "name": "stdout",
     "output_type": "stream",
     "text": [
      "1\n",
      "1\n",
      "2\n",
      "3\n",
      "5\n",
      "8\n",
      "13\n",
      "done\n"
     ]
    }
   ],
   "source": [
    "def fib(max):\n",
    "    n, a, b = 0, 0, 1\n",
    "    while(n<max):\n",
    "        print(b)\n",
    "        a, b = b, a+b\n",
    "        n += 1\n",
    "    return 'done'\n",
    "\n",
    "print(fib(7))"
   ]
  },
  {
   "cell_type": "markdown",
   "metadata": {},
   "source": [
    "稍微改造一下，把`print(b)`改为`yield b`"
   ]
  },
  {
   "cell_type": "code",
   "execution_count": 27,
   "metadata": {},
   "outputs": [
    {
     "name": "stdout",
     "output_type": "stream",
     "text": [
      "<generator object fib at 0x00000194844B87D8>\n"
     ]
    }
   ],
   "source": [
    "def fib(max):\n",
    "    n, a, b = 0, 0, 1\n",
    "    while(n<max):\n",
    "        yield b\n",
    "        a, b = b, a+b\n",
    "        n += 1\n",
    "    return 'done'\n",
    "\n",
    "fib7 = fib(7)\n",
    "print(fib7)"
   ]
  },
  {
   "cell_type": "markdown",
   "metadata": {},
   "source": [
    "这样就得到了一个生成器，生成器保存的是算法，不像list一次性把所有的元素保存起来，只有在访问的时候才会把值计算出来："
   ]
  },
  {
   "cell_type": "code",
   "execution_count": 30,
   "metadata": {},
   "outputs": [
    {
     "name": "stdout",
     "output_type": "stream",
     "text": [
      "True\n",
      "1\n",
      "1\n",
      "2\n",
      "3\n",
      "5\n",
      "8\n",
      "13\n"
     ]
    }
   ],
   "source": [
    "fib7 = fib(7)\n",
    "print(isinstance(fib7, Iterable))\n",
    "for val in fib7:\n",
    "    print(val)"
   ]
  },
  {
   "cell_type": "markdown",
   "metadata": {},
   "source": [
    "生成器是可迭代对象，每次迭代都会调用`next()`函数去计算下一个元素，`next()`函数从上一次yield语句后面继续执行"
   ]
  },
  {
   "cell_type": "markdown",
   "metadata": {},
   "source": [
    "### 列表生成式---->生成器"
   ]
  },
  {
   "cell_type": "code",
   "execution_count": 31,
   "metadata": {},
   "outputs": [
    {
     "data": {
      "text/plain": [
       "[0, 1, 2, 3, 4, 5, 6, 7, 8, 9, 10, 11, 12, 13, 14, 15, 16, 17, 18, 19]"
      ]
     },
     "execution_count": 31,
     "metadata": {},
     "output_type": "execute_result"
    }
   ],
   "source": [
    "[x for x in range(20)]"
   ]
  },
  {
   "cell_type": "code",
   "execution_count": 33,
   "metadata": {},
   "outputs": [
    {
     "name": "stdout",
     "output_type": "stream",
     "text": [
      "<generator object <genexpr> at 0x00000194844B8A40>\n"
     ]
    }
   ],
   "source": [
    "a = (x for x in range(20))\n",
    "print(a)"
   ]
  },
  {
   "cell_type": "code",
   "execution_count": 35,
   "metadata": {},
   "outputs": [
    {
     "data": {
      "text/plain": [
       "0"
      ]
     },
     "execution_count": 35,
     "metadata": {},
     "output_type": "execute_result"
    }
   ],
   "source": [
    "next(a)"
   ]
  },
  {
   "cell_type": "code",
   "execution_count": 36,
   "metadata": {},
   "outputs": [
    {
     "data": {
      "text/plain": [
       "1"
      ]
     },
     "execution_count": 36,
     "metadata": {},
     "output_type": "execute_result"
    }
   ],
   "source": [
    "next(a)"
   ]
  },
  {
   "cell_type": "markdown",
   "metadata": {},
   "source": [
    "## Iterable和Iterator\n",
    "Iterable表示可迭代对象，Iterator表示迭代器，最重要的差别就是Iterator可以被`next()`函数作用取得下一个值，Iterable对象却不一定，比如list tuple等可迭代对象即不可以被`next()`作用，但是可以使用`iter()`函数转为Iterator对象："
   ]
  },
  {
   "cell_type": "code",
   "execution_count": 39,
   "metadata": {},
   "outputs": [
    {
     "name": "stdout",
     "output_type": "stream",
     "text": [
      "True\n",
      "False\n"
     ]
    }
   ],
   "source": [
    "from collections import Iterable, Iterator\n",
    "\n",
    "print(isinstance('jonah', Iterable))\n",
    "print(isinstance((1, 2, 3), Iterator))"
   ]
  },
  {
   "cell_type": "code",
   "execution_count": 40,
   "metadata": {},
   "outputs": [
    {
     "name": "stdout",
     "output_type": "stream",
     "text": [
      "True\n"
     ]
    }
   ],
   "source": [
    "print(isinstance(iter('jonah'), Iterator))"
   ]
  },
  {
   "cell_type": "code",
   "execution_count": 41,
   "metadata": {},
   "outputs": [
    {
     "data": {
      "text/plain": [
       "'j'"
      ]
     },
     "execution_count": 41,
     "metadata": {},
     "output_type": "execute_result"
    }
   ],
   "source": [
    "a = iter('jonah')\n",
    "next(a)"
   ]
  },
  {
   "cell_type": "code",
   "execution_count": 42,
   "metadata": {},
   "outputs": [
    {
     "data": {
      "text/plain": [
       "'o'"
      ]
     },
     "execution_count": 42,
     "metadata": {},
     "output_type": "execute_result"
    }
   ],
   "source": [
    "next(a)"
   ]
  },
  {
   "cell_type": "markdown",
   "metadata": {},
   "source": [
    "## 高阶函数\n",
    "高阶函数，就是可以不仅可以接收一般函数的参数，还可以接受函数名作为参数；\n",
    "### map\n",
    "map函数接收第一个参数是一个函数对象，第二个参数是Iterable对象，返回一个Iterator:"
   ]
  },
  {
   "cell_type": "code",
   "execution_count": 3,
   "metadata": {},
   "outputs": [
    {
     "name": "stdout",
     "output_type": "stream",
     "text": [
      "[1, 4, 9, 16, 25, 36, 49, 64, 81]\n",
      "['1', '2', '3', '4', '5', '6', '7']\n"
     ]
    }
   ],
   "source": [
    "def all_pow2(x):\n",
    "    return x*x\n",
    "\n",
    "ret = map(all_pow2, [1,2,3,4,5,6,7,8,9])\n",
    "print(list(ret))\n",
    "ret = map(str, [1,2,3,4,5,6,7])\n",
    "print(list(ret))"
   ]
  },
  {
   "cell_type": "markdown",
   "metadata": {},
   "source": [
    "map函数返回的是Iterator，因此打印的话要先转为list;\n",
    "## reduce\n",
    "reduce()函数接收2个参数，第一个是函数对象，第二个是Iterable对象；\n",
    "reduce会把计算结果作为下一次运算的输入继续计算："
   ]
  },
  {
   "cell_type": "code",
   "execution_count": 4,
   "metadata": {},
   "outputs": [
    {
     "data": {
      "text/plain": [
       "15"
      ]
     },
     "execution_count": 4,
     "metadata": {},
     "output_type": "execute_result"
    }
   ],
   "source": [
    "from functools import reduce\n",
    "def add(x, y):\n",
    "    return x+y\n",
    "\n",
    "reduce(add, [1,2,3,4,5])"
   ]
  },
  {
   "cell_type": "markdown",
   "metadata": {},
   "source": [
    "上面的计算过程：add(add(add(add(1, 2), 3), 4), 5)"
   ]
  },
  {
   "cell_type": "markdown",
   "metadata": {},
   "source": [
    "### filter\n",
    "filter函数是内建函数，作用是从一个Iterable对象中过滤元素；"
   ]
  },
  {
   "cell_type": "code",
   "execution_count": 5,
   "metadata": {},
   "outputs": [
    {
     "data": {
      "text/plain": [
       "[1, 3, 5, 7]"
      ]
     },
     "execution_count": 5,
     "metadata": {},
     "output_type": "execute_result"
    }
   ],
   "source": [
    "def is_odd(n):\n",
    "    return n%2==1\n",
    "\n",
    "list(filter(is_odd, [1,2,3,4,5,6,7,8]))"
   ]
  },
  {
   "cell_type": "markdown",
   "metadata": {},
   "source": [
    "使用filter来求素数的方法：\n",
    "先定义一个起始为3的奇数数列odd_vect, 这个序列的第一个数一定是素数，把这个数的整倍数值都删掉，形成一个新序列，新序列的第一个值也是素数，这样反复循环；"
   ]
  },
  {
   "cell_type": "code",
   "execution_count": 8,
   "metadata": {},
   "outputs": [
    {
     "name": "stdout",
     "output_type": "stream",
     "text": [
      "2\n",
      "3\n",
      "5\n",
      "7\n",
      "11\n",
      "13\n",
      "17\n",
      "19\n"
     ]
    }
   ],
   "source": [
    "def odd_vect():\n",
    "    n = 3\n",
    "    while True:\n",
    "        yield n\n",
    "        n = n+2\n",
    "\n",
    "def not_divisible(n):\n",
    "    return lambda x: x%n>0\n",
    "\n",
    "def get_sushu():\n",
    "    yield 2\n",
    "    it = odd_vect()\n",
    "    while True:\n",
    "        n = next(it)\n",
    "        yield n\n",
    "        it = filter(not_divisible(n), it)\n",
    "        \n",
    "for n in get_sushu():\n",
    "    if n<20:\n",
    "        print(n)\n",
    "    else:\n",
    "        break"
   ]
  },
  {
   "cell_type": "markdown",
   "metadata": {},
   "source": [
    "**注意**，  `filter(not_divisible(n), it)`这里的not_divisiable返回的是一个函数，因为我们每次过滤的倍数值是不一样的，每次过滤我们都必须构造一个新的not_divisible出来，下面的写法也可以："
   ]
  },
  {
   "cell_type": "code",
   "execution_count": 9,
   "metadata": {},
   "outputs": [],
   "source": [
    "def not_divisible(n):\n",
    "    def not_divisible_n(x):\n",
    "        return x%n>0\n",
    "    return not_divisible_n"
   ]
  },
  {
   "cell_type": "markdown",
   "metadata": {},
   "source": [
    "### sorted\n",
    "sorted也是一个高阶函数，用法如下："
   ]
  },
  {
   "cell_type": "code",
   "execution_count": 10,
   "metadata": {},
   "outputs": [
    {
     "data": {
      "text/plain": [
       "[4, 5, 9, 12, 23]"
      ]
     },
     "execution_count": 10,
     "metadata": {},
     "output_type": "execute_result"
    }
   ],
   "source": [
    "sorted([23, 4, 5, 12, 9])"
   ]
  },
  {
   "cell_type": "code",
   "execution_count": 11,
   "metadata": {},
   "outputs": [
    {
     "data": {
      "text/plain": [
       "[4, 5, 9, 12, 23, -23]"
      ]
     },
     "execution_count": 11,
     "metadata": {},
     "output_type": "execute_result"
    }
   ],
   "source": [
    "sorted([23, 4, 5, 12, -23, 9], key=abs)"
   ]
  },
  {
   "cell_type": "code",
   "execution_count": 12,
   "metadata": {},
   "outputs": [
    {
     "data": {
      "text/plain": [
       "[23, -23, 12, 9, 5, 4]"
      ]
     },
     "execution_count": 12,
     "metadata": {},
     "output_type": "execute_result"
    }
   ],
   "source": [
    "sorted([23, 4, 5, 12, -23, 9], key=abs, reverse=True)"
   ]
  },
  {
   "cell_type": "markdown",
   "metadata": {},
   "source": [
    "## 装饰器\n",
    "装饰器也是高阶函数形式，它可以在不改变函数定义的情况下，增加函数功能"
   ]
  },
  {
   "cell_type": "code",
   "execution_count": 13,
   "metadata": {},
   "outputs": [
    {
     "name": "stdout",
     "output_type": "stream",
     "text": [
      "call now():\n",
      "args: ('jonah',)\n",
      "2015-3-25 jonah\n",
      "now\n"
     ]
    }
   ],
   "source": [
    "import functools\n",
    "\n",
    "def log(func):\n",
    "    @functools.wraps(func)\n",
    "    def wrapper(*args, **kw):\n",
    "        print('call %s():' % func.__name__)\n",
    "        print('args:', args)\n",
    "        return func(*args, **kw)\n",
    "    return wrapper\n",
    "\n",
    "@log\n",
    "def now(who):\n",
    "    print('2015-3-25', who)\n",
    "\n",
    "now('jonah')\n",
    "print(now.__name__)"
   ]
  },
  {
   "cell_type": "markdown",
   "metadata": {},
   "source": [
    "## 面向对象编程\n",
    "### 类定义"
   ]
  },
  {
   "cell_type": "code",
   "execution_count": 5,
   "metadata": {},
   "outputs": [
    {
     "name": "stdout",
     "output_type": "stream",
     "text": [
      "jonah\n",
      "29\n",
      "male\n"
     ]
    },
    {
     "ename": "AttributeError",
     "evalue": "'person' object has no attribute '__name'",
     "output_type": "error",
     "traceback": [
      "\u001b[1;31m---------------------------------------------------------------------------\u001b[0m",
      "\u001b[1;31mAttributeError\u001b[0m                            Traceback (most recent call last)",
      "\u001b[1;32m<ipython-input-5-bd79fd51d78b>\u001b[0m in \u001b[0;36m<module>\u001b[1;34m\u001b[0m\n\u001b[0;32m     18\u001b[0m \u001b[0mprint\u001b[0m\u001b[1;33m(\u001b[0m\u001b[0mjonah\u001b[0m\u001b[1;33m.\u001b[0m\u001b[0mget_age\u001b[0m\u001b[1;33m(\u001b[0m\u001b[1;33m)\u001b[0m\u001b[1;33m)\u001b[0m\u001b[1;33m\u001b[0m\u001b[0m\n\u001b[0;32m     19\u001b[0m \u001b[0mprint\u001b[0m\u001b[1;33m(\u001b[0m\u001b[0mjonah\u001b[0m\u001b[1;33m.\u001b[0m\u001b[0mget_gender\u001b[0m\u001b[1;33m(\u001b[0m\u001b[1;33m)\u001b[0m\u001b[1;33m)\u001b[0m\u001b[1;33m\u001b[0m\u001b[0m\n\u001b[1;32m---> 20\u001b[1;33m \u001b[0mjonah\u001b[0m\u001b[1;33m.\u001b[0m\u001b[0m__name\u001b[0m\u001b[1;33m\u001b[0m\u001b[0m\n\u001b[0m",
      "\u001b[1;31mAttributeError\u001b[0m: 'person' object has no attribute '__name'"
     ]
    }
   ],
   "source": [
    "class person(object):\n",
    "    def __init__(self, name, age, gender):\n",
    "        self.__name = name\n",
    "        self.__age = age\n",
    "        self.__gender = gender\n",
    "    \n",
    "    def get_name(self):\n",
    "        return self.__name\n",
    "    \n",
    "    def get_age(self):\n",
    "        return self.__age\n",
    "    \n",
    "    def get_gender(self):\n",
    "        return self.__gender\n",
    "\n",
    "jonah = person('jonah', 29, 'male')\n",
    "print(jonah.get_name())\n",
    "print(jonah.get_age())\n",
    "print(jonah.get_gender())\n",
    "jonah.__name"
   ]
  },
  {
   "cell_type": "markdown",
   "metadata": {},
   "source": [
    "`self.__age`在变量前加`__`表示私有变量，不可外部访问;\n",
    "python实际上没有c++那样严格的public private类型限制，只是解释器会把带`__`的变量名变成`_class__xxxx`的形式；\n",
    "\n",
    "带一个下划线的变量，对应c++中的protected类型，只可以在类内部和子类中访问："
   ]
  },
  {
   "cell_type": "markdown",
   "metadata": {},
   "source": [
    "### 继承多态\n",
    "继承：类之间的继承关系"
   ]
  },
  {
   "cell_type": "code",
   "execution_count": 10,
   "metadata": {},
   "outputs": [
    {
     "name": "stdout",
     "output_type": "stream",
     "text": [
      "person eating ....\n",
      "child eating ....\n",
      "<class '__main__.person'>\n"
     ]
    }
   ],
   "source": [
    "class person(object):\n",
    "    def __init__(self, name, age, gender):\n",
    "        self.__name = name\n",
    "        self.__age = age\n",
    "        self.__gender = gender\n",
    "    \n",
    "    def eat(self):\n",
    "        print('person eating ....')\n",
    "\n",
    "class child(person):\n",
    "    def __init__(self, name, age, gender):\n",
    "        super().__init__(name, age, gender)\n",
    "    \n",
    "    def eat(self):\n",
    "        print('child eating ....')\n",
    "\n",
    "jonah = person('jonah', 29, 'male')\n",
    "xiuyan = child('xiuyan', 0, 'male')\n",
    "jonah.eat()\n",
    "xiuyan.eat()\n",
    "print(child.__base__)"
   ]
  },
  {
   "cell_type": "markdown",
   "metadata": {},
   "source": [
    "上面的child就是继承自person类，直接继承`__name, __age, __gender`属性"
   ]
  },
  {
   "cell_type": "markdown",
   "metadata": {},
   "source": [
    "### 多态\n",
    "上面的例子中，我们看到eat()函数，是调用person和child各自的eat()函数，我们可以使用多态的方法，让对象在运行时自行区分："
   ]
  },
  {
   "cell_type": "code",
   "execution_count": 11,
   "metadata": {},
   "outputs": [
    {
     "name": "stdout",
     "output_type": "stream",
     "text": [
      "True\n",
      "True\n",
      "person eating ....\n",
      "child eating ....\n"
     ]
    }
   ],
   "source": [
    "class person(object):\n",
    "    def __init__(self, name, age, gender):\n",
    "        self.__name = name\n",
    "        self.__age = age\n",
    "        self.__gender = gender\n",
    "    \n",
    "    def eat(self):\n",
    "        print('person eating ....')\n",
    "\n",
    "class child(person):\n",
    "    def __init__(self, name, age, gender):\n",
    "        super().__init__(name, age, gender)\n",
    "    \n",
    "    def eat(self):\n",
    "        print('child eating ....')\n",
    "        \n",
    "jonah = person('jonah', 29, 'male')\n",
    "xiuyan = child('xiuyan', 0, 'male')\n",
    "print(isinstance(jonah, person))\n",
    "print(isinstance(xiuyan, person))\n",
    "\n",
    "def print_eat(obj_list):\n",
    "    for obj in obj_list:\n",
    "        obj.eat()\n",
    "\n",
    "print_eat([jonah, xiuyan])"
   ]
  },
  {
   "cell_type": "markdown",
   "metadata": {},
   "source": [
    "### 获取类型信息\n",
    "`type()`和`isinstance()`, 是常用的获取类型和实例的函数："
   ]
  },
  {
   "cell_type": "code",
   "execution_count": 15,
   "metadata": {},
   "outputs": [
    {
     "name": "stdout",
     "output_type": "stream",
     "text": [
      "<class 'str'>\n",
      "<class 'int'>\n",
      "True\n"
     ]
    }
   ],
   "source": [
    "print(type('abc'))\n",
    "print(type(123))\n",
    "print(type('123') == str)"
   ]
  },
  {
   "cell_type": "code",
   "execution_count": 18,
   "metadata": {},
   "outputs": [
    {
     "name": "stdout",
     "output_type": "stream",
     "text": [
      "<class 'builtin_function_or_method'>\n",
      "True\n",
      "True\n",
      "True\n"
     ]
    }
   ],
   "source": [
    "import types\n",
    "def func():\n",
    "    pass\n",
    "\n",
    "print(type(abs))\n",
    "print(isinstance(func, types.FunctionType))\n",
    "print(isinstance('abc', str))\n",
    "print(isinstance([1,2], (list, tuple)))"
   ]
  },
  {
   "cell_type": "markdown",
   "metadata": {},
   "source": [
    "### 实例属性和类属性\n",
    "实例属性就是对象的属性，类属性属于类，所有的实例对象也拥有这个属性，但是，如果同名的话，实例属性优先级高于类属性"
   ]
  },
  {
   "cell_type": "code",
   "execution_count": 19,
   "metadata": {},
   "outputs": [
    {
     "name": "stdout",
     "output_type": "stream",
     "text": [
      "human being\n",
      "human being\n",
      "jonah human being\n"
     ]
    }
   ],
   "source": [
    "class person(object):\n",
    "    name = 'human being'\n",
    "\n",
    "print(person.name)\n",
    "\n",
    "jonah = person()\n",
    "print(jonah.name)\n",
    "\n",
    "jonah.name = 'jonah'\n",
    "print(jonah.name, person.name)"
   ]
  },
  {
   "cell_type": "code",
   "execution_count": 20,
   "metadata": {},
   "outputs": [
    {
     "name": "stdout",
     "output_type": "stream",
     "text": [
      "Jan => Month.Jan , 1\n",
      "Feb => Month.Feb , 2\n",
      "Mar => Month.Mar , 3\n",
      "Apr => Month.Apr , 4\n",
      "May => Month.May , 5\n",
      "Jun => Month.Jun , 6\n",
      "Jul => Month.Jul , 7\n",
      "Aug => Month.Aug , 8\n",
      "Sep => Month.Sep , 9\n",
      "Oct => Month.Oct , 10\n",
      "Nov => Month.Nov , 11\n",
      "Dec => Month.Dec , 12\n"
     ]
    }
   ],
   "source": [
    "from enum import Enum\n",
    "\n",
    "Month = Enum('Month', ('Jan', 'Feb', 'Mar', 'Apr', 'May', 'Jun', 'Jul', 'Aug', 'Sep', 'Oct', 'Nov', 'Dec'))\n",
    "for name, member in Month.__members__.items():\n",
    "    print(name, '=>', member, ',', member.value)"
   ]
  },
  {
   "cell_type": "markdown",
   "metadata": {},
   "source": [
    "## IO编程和文件操作\n",
    "### 文件读写"
   ]
  },
  {
   "cell_type": "code",
   "execution_count": 21,
   "metadata": {},
   "outputs": [
    {
     "name": "stdout",
     "output_type": "stream",
     "text": [
      "['.ipynb_checkpoints', '.vscode', 'lesson1.py', 'python3 notebook.ipynb', 'python3 notebook.md', 'test_py_io.txt']\n"
     ]
    }
   ],
   "source": [
    "import os\n",
    "print(os.listdir())"
   ]
  },
  {
   "cell_type": "code",
   "execution_count": 22,
   "metadata": {},
   "outputs": [
    {
     "name": "stdout",
     "output_type": "stream",
     "text": [
      "jonahzeng\n",
      "zengxiuyan\n"
     ]
    }
   ],
   "source": [
    "with open('test_py_io.txt', 'r') as f:\n",
    "    context = f.read()\n",
    "print(context)"
   ]
  },
  {
   "cell_type": "code",
   "execution_count": 23,
   "metadata": {},
   "outputs": [
    {
     "name": "stdout",
     "output_type": "stream",
     "text": [
      "['jonahzeng\\n', 'zengxiuyan']\n"
     ]
    }
   ],
   "source": [
    "with open('test_py_io.txt', 'r') as f:\n",
    "    context = f.readlines()\n",
    "print(context)"
   ]
  },
  {
   "cell_type": "code",
   "execution_count": 24,
   "metadata": {},
   "outputs": [
    {
     "name": "stdout",
     "output_type": "stream",
     "text": [
      "jona\n"
     ]
    }
   ],
   "source": [
    "with open('test_py_io.txt', 'r') as f:\n",
    "    context = f.read(4)\n",
    "print(context)"
   ]
  },
  {
   "cell_type": "markdown",
   "metadata": {},
   "source": [
    "二进制读写："
   ]
  },
  {
   "cell_type": "code",
   "execution_count": 25,
   "metadata": {},
   "outputs": [
    {
     "name": "stdout",
     "output_type": "stream",
     "text": [
      "b'jonahzeng\\r\\nzengxiuyan'\n"
     ]
    }
   ],
   "source": [
    "with open('test_py_io.txt', 'rb') as f:\n",
    "    context = f.read()\n",
    "print(context)"
   ]
  },
  {
   "cell_type": "markdown",
   "metadata": {},
   "source": [
    "### 文件操作"
   ]
  },
  {
   "cell_type": "code",
   "execution_count": 26,
   "metadata": {},
   "outputs": [
    {
     "data": {
      "text/plain": [
       "'nt'"
      ]
     },
     "execution_count": 26,
     "metadata": {},
     "output_type": "execute_result"
    }
   ],
   "source": [
    "import os\n",
    "os.name"
   ]
  },
  {
   "cell_type": "code",
   "execution_count": 28,
   "metadata": {},
   "outputs": [
    {
     "data": {
      "text/plain": [
       "'C:\\\\Program Files\\\\NVIDIA GPU Computing Toolkit\\\\CUDA\\\\v10.1\\\\bin;C:\\\\Program Files\\\\NVIDIA GPU Computing Toolkit\\\\CUDA\\\\v10.1\\\\libnvvp;C:\\\\python3\\\\Scripts\\\\;C:\\\\python3\\\\;C:\\\\Windows\\\\system32;C:\\\\Windows;C:\\\\Windows\\\\System32\\\\Wbem;C:\\\\Windows\\\\System32\\\\WindowsPowerShell\\\\v1.0\\\\;C:\\\\Windows\\\\System32\\\\OpenSSH\\\\;F:\\\\opencv3-4-5\\\\build\\\\install\\\\x64\\\\vc15\\\\bin\\\\;C:\\\\mingw64_download\\\\mingw64\\\\bin;C:\\\\Program Files (x86)\\\\Microsoft Visual Studio\\\\2017\\\\Community\\\\MSBuild\\\\15.0\\\\Bin\\\\;C:\\\\Program Files\\\\NVIDIA Corporation\\\\Nsight Compute 2019.3.0\\\\;C:\\\\Program Files\\\\CMake\\\\bin;C:\\\\Program Files\\\\MATLAB\\\\R2016a\\\\runtime\\\\win64;C:\\\\Program Files\\\\MATLAB\\\\R2016a\\\\bin;C:\\\\Program Files\\\\MATLAB\\\\R2016a\\\\polyspace\\\\bin;C:\\\\Users\\\\30282\\\\AppData\\\\Local\\\\Microsoft\\\\WindowsApps;C:\\\\Program Files (x86)\\\\Microsoft VS Code\\\\bin;'"
      ]
     },
     "execution_count": 28,
     "metadata": {},
     "output_type": "execute_result"
    }
   ],
   "source": [
    "os.environ['PATH']"
   ]
  },
  {
   "cell_type": "markdown",
   "metadata": {},
   "source": [
    "操作文件大部分集中在os.path模块；"
   ]
  },
  {
   "cell_type": "code",
   "execution_count": 29,
   "metadata": {},
   "outputs": [
    {
     "data": {
      "text/plain": [
       "'F:\\\\github_repo\\\\learn_py'"
      ]
     },
     "execution_count": 29,
     "metadata": {},
     "output_type": "execute_result"
    }
   ],
   "source": [
    "os.path.abspath('.')"
   ]
  },
  {
   "cell_type": "code",
   "execution_count": 30,
   "metadata": {},
   "outputs": [
    {
     "data": {
      "text/plain": [
       "'.\\\\newdir'"
      ]
     },
     "execution_count": 30,
     "metadata": {},
     "output_type": "execute_result"
    }
   ],
   "source": [
    "os.path.join('.', 'newdir')"
   ]
  },
  {
   "cell_type": "code",
   "execution_count": 31,
   "metadata": {},
   "outputs": [
    {
     "data": {
      "text/plain": [
       "('./new_dir', 'xxx.txt')"
      ]
     },
     "execution_count": 31,
     "metadata": {},
     "output_type": "execute_result"
    }
   ],
   "source": [
    "os.path.split('./new_dir/xxx.txt')"
   ]
  },
  {
   "cell_type": "code",
   "execution_count": 32,
   "metadata": {},
   "outputs": [
    {
     "data": {
      "text/plain": [
       "('./new_dir/xxx', '.txt')"
      ]
     },
     "execution_count": 32,
     "metadata": {},
     "output_type": "execute_result"
    }
   ],
   "source": [
    "os.path.splitext('./new_dir/xxx.txt')"
   ]
  },
  {
   "cell_type": "code",
   "execution_count": 33,
   "metadata": {},
   "outputs": [],
   "source": [
    "os.mkdir('./newdir')"
   ]
  },
  {
   "cell_type": "code",
   "execution_count": 34,
   "metadata": {},
   "outputs": [],
   "source": [
    "os.rmdir('./newdir')"
   ]
  },
  {
   "cell_type": "code",
   "execution_count": 35,
   "metadata": {},
   "outputs": [],
   "source": [
    "os.rename('test_py_io.txt', 'new.txt')"
   ]
  },
  {
   "cell_type": "code",
   "execution_count": 36,
   "metadata": {},
   "outputs": [],
   "source": [
    "os.remove('new.txt')"
   ]
  },
  {
   "cell_type": "markdown",
   "metadata": {},
   "source": [
    "复制文件使用shutil模块的coypfile函数；\n",
    "### 遍历文件夹\n",
    "遍历文件夹使用os.walk函数"
   ]
  },
  {
   "cell_type": "code",
   "execution_count": 37,
   "metadata": {},
   "outputs": [
    {
     "name": "stdout",
     "output_type": "stream",
     "text": [
      "<generator object walk at 0x0000025889553048>\n"
     ]
    }
   ],
   "source": [
    "import os\n",
    "print(os.walk('.'))"
   ]
  },
  {
   "cell_type": "code",
   "execution_count": 40,
   "metadata": {},
   "outputs": [
    {
     "name": "stdout",
     "output_type": "stream",
     "text": [
      ". ['.ipynb_checkpoints', '.vscode'] ['lesson1.py', 'python3 notebook.ipynb', 'python3 notebook.md']\n",
      ".\\.ipynb_checkpoints [] ['python3 notebook-checkpoint.ipynb']\n",
      ".\\.vscode [] ['settings.json']\n"
     ]
    }
   ],
   "source": [
    "for cur_dir, child_dir_list, cur_dir_file_list in os.walk('.'):\n",
    "    print(cur_dir, child_dir_list, cur_dir_file_list)"
   ]
  },
  {
   "cell_type": "code",
   "execution_count": null,
   "metadata": {},
   "outputs": [],
   "source": []
  }
 ],
 "metadata": {
  "kernelspec": {
   "display_name": "Python 3",
   "language": "python",
   "name": "python3"
  },
  "language_info": {
   "codemirror_mode": {
    "name": "ipython",
    "version": 3
   },
   "file_extension": ".py",
   "mimetype": "text/x-python",
   "name": "python",
   "nbconvert_exporter": "python",
   "pygments_lexer": "ipython3",
   "version": "3.5.4"
  }
 },
 "nbformat": 4,
 "nbformat_minor": 2
}
